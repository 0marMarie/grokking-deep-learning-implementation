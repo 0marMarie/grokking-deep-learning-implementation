{
 "cells": [
  {
   "cell_type": "code",
   "execution_count": 12,
   "metadata": {},
   "outputs": [
    {
     "name": "stdout",
     "output_type": "stream",
     "text": [
      "Iteration: 1\n",
      "Pred: 0.8600000000000001\n",
      "Error: 0.01959999999999997\n",
      "Delta: -0.1399999999999999\n",
      "Weights: [0.1, 0.2, -0.1]\n",
      "Weight_Deltas: \n",
      "[-1.189999999999999, -0.09099999999999994, -0.16799999999999987]\n",
      "\n",
      "Iteration: 2\n",
      "Pred: 0.9637574999999999\n",
      "Error: 0.0013135188062500048\n",
      "Delta: -0.036242500000000066\n",
      "Weights: [0.1119, 0.20091, -0.09832]\n",
      "Weight_Deltas: \n",
      "[-0.30806125000000056, -0.023557625000000044, -0.04349100000000008]\n",
      "\n",
      "Iteration: 3\n",
      "Pred: 0.9906177228125002\n",
      "Error: 8.802712522307997e-05\n",
      "Delta: -0.009382277187499843\n",
      "Weights: [0.11498061250000001, 0.20114557625, -0.09788509000000001]\n",
      "Weight_Deltas: \n",
      "[-0.07974935609374867, -0.006098480171874899, -0.011258732624999811]\n",
      "\n"
     ]
    }
   ],
   "source": [
    "# weights = [0.1, 0.2, -.1] \n",
    "# toes = [8.5 , 9.5, 9.9, 9.0]\n",
    "# wlrec = [0.65, 0.8, 0.8, 0.9]\n",
    "# nfans = [1.2 , 1.3, 0.5, 1.0]\n",
    "# win_or_lose_binary = [1, 1, 0, 1]\n",
    "\n",
    "def neural_network(input,weights):\n",
    "    out = 0\n",
    "    for i in range(len(weights)):\n",
    "        out += input[i] * weights[i]\n",
    "    return out\n",
    "\n",
    "def ele_mul(delta,input):\n",
    "    output = [0,0,0]\n",
    "    for i in range(len(input)):\n",
    "        output[i] = delta * input[i]\n",
    "    return output\n",
    "\n",
    "weights = [0.1, 0.2, -.1] \n",
    "toes = [8.5 , 9.5, 9.9, 9.0]\n",
    "wlrec = [0.65, 0.8, 0.8, 0.9]\n",
    "nfans = [1.2 , 1.3, 0.5, 1.0]\n",
    "win_or_lose_binary = [1, 1, 0, 1]\n",
    "\n",
    "input = [toes[0],wlrec[0],nfans[0]]\n",
    "true = win_or_lose_binary[0]\n",
    "alpha = 0.01\n",
    "\n",
    "for j in range(3):\n",
    "    pred = neural_network(input,weights)\n",
    "    error = (pred - true)**2\n",
    "    delta = pred - true\n",
    "    weight_deltas = ele_mul(delta,input)\n",
    "    \n",
    "    print(\"Iteration: \" + str(j+1))\n",
    "    print(\"Pred: \" + str(pred))\n",
    "    print(\"Error: \" + str(error))\n",
    "    print(\"Delta: \" + str(delta))\n",
    "    print(\"Weights: \" + str(weights))\n",
    "    print(\"Weight_Deltas: \")\n",
    "    print(str(weight_deltas))\n",
    "    print()\n",
    "    \n",
    "    for k in range(len(weights)):\n",
    "        weights[k] -= alpha * weight_deltas[k]\n",
    "    \n",
    "    "
   ]
  }
 ],
 "metadata": {
  "kernelspec": {
   "display_name": "Python 3",
   "language": "python",
   "name": "python3"
  },
  "language_info": {
   "codemirror_mode": {
    "name": "ipython",
    "version": 3
   },
   "file_extension": ".py",
   "mimetype": "text/x-python",
   "name": "python",
   "nbconvert_exporter": "python",
   "pygments_lexer": "ipython3",
   "version": "3.7.4"
  }
 },
 "nbformat": 4,
 "nbformat_minor": 2
}
