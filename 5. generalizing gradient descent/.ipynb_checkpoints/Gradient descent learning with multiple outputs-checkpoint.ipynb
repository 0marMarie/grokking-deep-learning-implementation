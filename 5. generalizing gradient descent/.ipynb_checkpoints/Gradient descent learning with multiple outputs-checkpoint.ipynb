{
 "cells": [
  {
   "cell_type": "code",
   "execution_count": 5,
   "metadata": {},
   "outputs": [
    {
     "name": "stdout",
     "output_type": "stream",
     "text": [
      "Weights:[0.293825, 0.25655, 0.868475]\n",
      "Weight Deltas:[0.061750000000000006, -0.5655, 0.3152500000000001]\n"
     ]
    }
   ],
   "source": [
    "def ele_mul(number,vector):\n",
    "    output = [0,0,0]\n",
    "    for i in range(len(vector)):\n",
    "        output[i] = number * vector[i]\n",
    "    return output\n",
    "\n",
    "def neural_network(input, weights):\n",
    "    pred = ele_mul(input,weights)\n",
    "    return pred\n",
    "\n",
    "wlrec = [0.65, 1.0, 1.0, 0.9]\n",
    "hurt = [0.1, 0.0, 0.0, 0.1]\n",
    "win = [ 1, 1, 0, 1]\n",
    "sad = [0.1, 0.0, 0.1, 0.2]\n",
    "\n",
    "alpha = 0.1\n",
    "input = wlrec[0]\n",
    "weights = [0.3, 0.2, 0.9]\n",
    "true = [hurt[0], win[0], sad[0]]\n",
    "\n",
    "pred = neural_network(input,weights)\n",
    "error = [0,0,0]\n",
    "delta = [0,0,0]\n",
    "for j in range(len(true)):\n",
    "    error[j] = (pred[j] - true[j]) **2\n",
    "    delta[j] = pred[j] - true[j]\n",
    "\n",
    "weight_deltas = ele_mul(input,delta) \n",
    "\n",
    "for k in range(len(weights)):\n",
    "    weights[k] -= alpha * weight_deltas[k]\n",
    "\n",
    "print(\"Weights:\" + str(weights))\n",
    "print(\"Weight Deltas:\" + str(weight_deltas))\n"
   ]
  }
 ],
 "metadata": {
  "kernelspec": {
   "display_name": "Python 3",
   "language": "python",
   "name": "python3"
  },
  "language_info": {
   "codemirror_mode": {
    "name": "ipython",
    "version": 3
   },
   "file_extension": ".py",
   "mimetype": "text/x-python",
   "name": "python",
   "nbconvert_exporter": "python",
   "pygments_lexer": "ipython3",
   "version": "3.7.4"
  }
 },
 "nbformat": 4,
 "nbformat_minor": 2
}
