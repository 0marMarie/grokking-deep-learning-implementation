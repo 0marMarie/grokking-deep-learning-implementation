{
 "cells": [
  {
   "cell_type": "code",
   "execution_count": 13,
   "metadata": {},
   "outputs": [
    {
     "data": {
      "text/plain": [
       "0.9800000000000001"
      ]
     },
     "execution_count": 13,
     "metadata": {},
     "output_type": "execute_result"
    }
   ],
   "source": [
    "import numpy as np\n",
    "a = np.array([0.1, 0.2, 0])\n",
    "b = np.array([8.5,.65,1.2])\n",
    "def elementwise_multiplication(vec_a, vec_b):\n",
    "    return vec_a * vec_b\n",
    "\n",
    "def elementwise_addition(vec_a, vec_b):\n",
    "    return vec_a + vec_b\n",
    "\n",
    "def vector_sum(vec_a):\n",
    "    return np.sum(vec_a)\n",
    "\n",
    "def vector_average(vec_a):\n",
    "    return (vector_sum(vec_a))/(len(vec_a))\n",
    "\n",
    "def dot_product(vec_a, vec_b): \n",
    "    return vector_sum(elementwise_multiplication(vec_a, vec_b))\n",
    "\n",
    "dot_product(a, b)"
   ]
  }
 ],
 "metadata": {
  "kernelspec": {
   "display_name": "Python 3",
   "language": "python",
   "name": "python3"
  },
  "language_info": {
   "codemirror_mode": {
    "name": "ipython",
    "version": 3
   },
   "file_extension": ".py",
   "mimetype": "text/x-python",
   "name": "python",
   "nbconvert_exporter": "python",
   "pygments_lexer": "ipython3",
   "version": "3.7.4"
  }
 },
 "nbformat": 4,
 "nbformat_minor": 2
}
