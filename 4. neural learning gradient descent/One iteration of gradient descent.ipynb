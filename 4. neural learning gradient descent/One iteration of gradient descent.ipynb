{
 "cells": [
  {
   "cell_type": "code",
   "execution_count": 14,
   "metadata": {},
   "outputs": [
    {
     "name": "stdout",
     "output_type": "stream",
     "text": [
      "Error:0.022499999999999975 Prediction:0.8500000000000001\n",
      "Error:0.001732640625000002 Prediction:0.958375\n",
      "Error:0.00013342415712890425 Prediction:0.9884490625000001\n",
      "Error:1.0274493999907953e-05 Prediction:0.99679461484375\n",
      "Error:7.9120025358043e-07 Prediction:0.9991105056191406\n",
      "Error:6.092736452730498e-08 Prediction:0.9997531653093115\n",
      "Error:4.691787864617319e-09 Prediction:0.999931503373334\n",
      "Error:3.6129698925139675e-10 Prediction:0.9999809921861001\n",
      "Error:2.7822126278473025e-11 Prediction:0.9999947253316428\n",
      "Error:2.1424776118486674e-12 Prediction:0.9999985362795308\n",
      "Error:1.6498416664048747e-13 Prediction:0.9999995938175698\n",
      "Error:1.2704811981545633e-14 Prediction:0.9999998872843756\n",
      "Error:9.78349924736897e-16 Prediction:0.9999999687214143\n",
      "Error:7.533905892068024e-17 Prediction:0.9999999913201925\n",
      "Error:5.8015785183242995e-18 Prediction:0.9999999975913534\n",
      "Error:4.467578206181596e-19 Prediction:0.9999999993316006\n",
      "Error:3.440310560710554e-20 Prediction:0.9999999998145193\n",
      "Error:2.6492575226651465e-21 Prediction:0.9999999999485291\n",
      "Error:2.0401098078874313e-22 Prediction:0.9999999999857168\n",
      "Error:1.5710182196134703e-23 Prediction:0.9999999999960364\n",
      "Error:1.209775501505615e-24 Prediction:0.9999999999989001\n",
      "Error:9.314722890025143e-26 Prediction:0.9999999999996948\n",
      "Error:7.175786942681425e-27 Prediction:0.9999999999999153\n",
      "Error:5.539775706914555e-28 Prediction:0.9999999999999765\n",
      "Error:4.2906637673036595e-29 Prediction:0.9999999999999934\n",
      "Error:3.1554436208840472e-30 Prediction:0.9999999999999982\n",
      "Error:1.9721522630525295e-31 Prediction:0.9999999999999996\n",
      "Error:1.232595164407831e-32 Prediction:0.9999999999999999\n",
      "Error:0.0 Prediction:1.0\n"
     ]
    }
   ],
   "source": [
    "weight = 0.1\n",
    "alpha = 0.01\n",
    "def neural_network(input,weight):\n",
    "    prediction = input * weight\n",
    "    return prediction\n",
    "toes = [8.5]\n",
    "binary_win_or_loss = [1]\n",
    "input = toes[0]\n",
    "goal_pred = binary_win_or_loss[0]\n",
    "for i in range(29):\n",
    "    pred = neural_network(input,weight)\n",
    "    error = (pred-goal_pred)**2\n",
    "    delta = (pred-goal_pred)\n",
    "    weight_delta = delta * input\n",
    "    weight -= weight_delta * alpha\n",
    "    print(\"Error:\" + str(error) + \" Prediction:\" + str(pred)) "
   ]
  },
  {
   "cell_type": "code",
   "execution_count": null,
   "metadata": {},
   "outputs": [],
   "source": []
  }
 ],
 "metadata": {
  "kernelspec": {
   "display_name": "Python 3",
   "language": "python",
   "name": "python3"
  },
  "language_info": {
   "codemirror_mode": {
    "name": "ipython",
    "version": 3
   },
   "file_extension": ".py",
   "mimetype": "text/x-python",
   "name": "python",
   "nbconvert_exporter": "python",
   "pygments_lexer": "ipython3",
   "version": "3.7.4"
  }
 },
 "nbformat": 4,
 "nbformat_minor": 2
}
