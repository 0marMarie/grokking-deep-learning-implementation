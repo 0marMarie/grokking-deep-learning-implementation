{
 "cells": [
  {
   "cell_type": "code",
   "execution_count": null,
   "metadata": {},
   "outputs": [],
   "source": [
    "#weight .5\n",
    "#input .5\n",
    "#goal .8\n",
    "#step_amount 0.001\n",
    "#iteration range 1101\n",
    "\n",
    "weight = .5\n",
    "input = .5\n",
    "goal_pred = .8\n",
    "step_amount = 0.001\n",
    "\n",
    "for i in range(1101):\n",
    "    pred = input * weight\n",
    "    error = (pred - goal_pred)**2\n",
    "    print(\"Error:\" + str(error) + \" Prediction:\" + str(prediction))\n",
    "    p_up = input * (weight+step_amount)\n",
    "    e_up = (p_up - goal_pred)**2\n",
    "    p_dn = input * (weight-step_amount)\n",
    "    e_dn = (p_dn - goal_pred)**2\n",
    "    if e_dn < e_up:\n",
    "        weight -= step_amount\n",
    "    if e_up < e_dn\n",
    "        weight += step_amount"
   ]
  }
 ],
 "metadata": {
  "kernelspec": {
   "display_name": "Python 3",
   "language": "python",
   "name": "python3"
  },
  "language_info": {
   "codemirror_mode": {
    "name": "ipython",
    "version": 3
   },
   "file_extension": ".py",
   "mimetype": "text/x-python",
   "name": "python",
   "nbconvert_exporter": "python",
   "pygments_lexer": "ipython3",
   "version": "3.7.4"
  }
 },
 "nbformat": 4,
 "nbformat_minor": 2
}
